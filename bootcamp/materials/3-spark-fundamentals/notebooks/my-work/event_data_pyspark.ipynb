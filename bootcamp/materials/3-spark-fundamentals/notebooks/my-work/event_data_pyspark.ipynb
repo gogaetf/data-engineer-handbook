{
 "cells": [
  {
   "cell_type": "code",
   "execution_count": 11,
   "id": "81cca085-dba2-42eb-a13b-fa64b6e86583",
   "metadata": {},
   "outputs": [
    {
     "name": "stdout",
     "output_type": "stream",
     "text": [
      "+-----------+----------+--------+--------------------+----------+--------------------+-------------------+\n",
      "|    user_id| device_id|referrer|                host|       url|          event_time|         event_date|\n",
      "+-----------+----------+--------+--------------------+----------+--------------------+-------------------+\n",
      "| 1037710827| 532630305|    NULL| www.zachwilson.tech|         /|2021-03-08 17:27:...|2021-03-08 00:00:00|\n",
      "|  925588856| 532630305|    NULL|    www.eczachly.com|         /|2021-05-10 11:26:...|2021-05-10 00:00:00|\n",
      "|-1180485268| 532630305|    NULL|admin.zachwilson....|         /|2021-02-17 16:19:...|2021-02-17 00:00:00|\n",
      "|-1044833855| 532630305|    NULL| www.zachwilson.tech|         /|2021-09-24 15:53:...|2021-09-24 00:00:00|\n",
      "|  747494706| 532630305|    NULL| www.zachwilson.tech|         /|2021-09-26 16:03:...|2021-09-26 00:00:00|\n",
      "|  747494706| 532630305|    NULL|admin.zachwilson....|         /|2021-02-21 16:08:...|2021-02-21 00:00:00|\n",
      "| -824540328| 532630305|    NULL|admin.zachwilson....|         /|2021-09-28 17:23:...|2021-09-28 00:00:00|\n",
      "| -824540328| 532630305|    NULL|    www.eczachly.com|         /|2021-09-29 01:22:...|2021-09-29 00:00:00|\n",
      "| 1833036683| 532630305|    NULL|admin.zachwilson....|         /|2021-01-24 03:15:...|2021-01-24 00:00:00|\n",
      "|-2134824313| 532630305|    NULL|    www.eczachly.com|         /|2021-01-25 00:03:...|2021-01-25 00:00:00|\n",
      "|-1809929467|-906264142|    NULL|admin.zachwilson....|/.git/HEAD|2021-02-22 01:36:...|2021-02-22 00:00:00|\n",
      "| 2002285749|-906264142|    NULL|    www.eczachly.com|         /|2021-02-22 02:25:...|2021-02-22 00:00:00|\n",
      "|-1562965412| 532630305|    NULL| www.zachwilson.tech|         /|2021-01-30 20:46:...|2021-01-30 00:00:00|\n",
      "|-1099860451| 532630305|    NULL|    www.eczachly.com|         /|2021-02-04 23:49:...|2021-02-04 00:00:00|\n",
      "| 1246896869|-906264142|    NULL| www.zachwilson.tech|         /|2021-02-22 02:50:...|2021-02-22 00:00:00|\n",
      "| -629331502|-906264142|    NULL|admin.zachwilson....|/.git/HEAD|2021-02-22 23:51:...|2021-02-22 00:00:00|\n",
      "|-1913422462|-906264142|    NULL|    www.eczachly.com|         /|2021-02-23 00:17:...|2021-02-23 00:00:00|\n",
      "|   50429624| 532630305|    NULL|    www.eczachly.com|         /|2022-12-28 01:38:...|2022-12-28 00:00:00|\n",
      "|  222389292| 532630305|    NULL| www.zachwilson.tech|         /|2022-12-28 05:23:...|2022-12-28 00:00:00|\n",
      "| -779924777| 532630305|    NULL| www.zachwilson.tech|         /|2022-12-28 16:45:...|2022-12-28 00:00:00|\n",
      "+-----------+----------+--------+--------------------+----------+--------------------+-------------------+\n",
      "only showing top 20 rows\n",
      "\n"
     ]
    }
   ],
   "source": [
    "from pyspark.sql import SparkSession\n",
    "from pyspark.sql.functions import expr, col\n",
    "spark = SparkSession.builder.appName(\"Jupyter\").getOrCreate()\n",
    "\n",
    "spark\n",
    "\n",
    "events = spark.read.option(\"header\", \"true\").csv(\"/home/iceberg/data/events.csv\").withColumn(\"event_date\", expr(\"DATE_TRUNC('day', event_time)\"))\n",
    "\n",
    "events.show()"
   ]
  },
  {
   "cell_type": "code",
   "execution_count": 12,
   "id": "844979f0-b682-46ab-9d30-799c22e67f49",
   "metadata": {},
   "outputs": [
    {
     "name": "stdout",
     "output_type": "stream",
     "text": [
      "+----------+--------+--------------+---------+-------------+--------------------+--------------------+-------------------+\n",
      "|       url|referrer|browser_family|os_family|device_family|                host|          event_time|         event_date|\n",
      "+----------+--------+--------------+---------+-------------+--------------------+--------------------+-------------------+\n",
      "|         /|    NULL|         Other|    Other|        Other| www.zachwilson.tech|2021-03-08 17:27:...|2021-03-08 00:00:00|\n",
      "|         /|    NULL|         Other|    Other|        Other|    www.eczachly.com|2021-05-10 11:26:...|2021-05-10 00:00:00|\n",
      "|         /|    NULL|         Other|    Other|        Other|admin.zachwilson....|2021-02-17 16:19:...|2021-02-17 00:00:00|\n",
      "|         /|    NULL|         Other|    Other|        Other| www.zachwilson.tech|2021-09-24 15:53:...|2021-09-24 00:00:00|\n",
      "|         /|    NULL|         Other|    Other|        Other| www.zachwilson.tech|2021-09-26 16:03:...|2021-09-26 00:00:00|\n",
      "|         /|    NULL|         Other|    Other|        Other|admin.zachwilson....|2021-02-21 16:08:...|2021-02-21 00:00:00|\n",
      "|         /|    NULL|         Other|    Other|        Other|admin.zachwilson....|2021-09-28 17:23:...|2021-09-28 00:00:00|\n",
      "|         /|    NULL|         Other|    Other|        Other|    www.eczachly.com|2021-09-29 01:22:...|2021-09-29 00:00:00|\n",
      "|         /|    NULL|         Other|    Other|        Other|admin.zachwilson....|2021-01-24 03:15:...|2021-01-24 00:00:00|\n",
      "|         /|    NULL|         Other|    Other|        Other|    www.eczachly.com|2021-01-25 00:03:...|2021-01-25 00:00:00|\n",
      "|/.git/HEAD|    NULL|          curl|    Other|        Other|admin.zachwilson....|2021-02-22 01:36:...|2021-02-22 00:00:00|\n",
      "|         /|    NULL|          curl|    Other|        Other|    www.eczachly.com|2021-02-22 02:25:...|2021-02-22 00:00:00|\n",
      "|         /|    NULL|         Other|    Other|        Other| www.zachwilson.tech|2021-01-30 20:46:...|2021-01-30 00:00:00|\n",
      "|         /|    NULL|         Other|    Other|        Other|    www.eczachly.com|2021-02-04 23:49:...|2021-02-04 00:00:00|\n",
      "|         /|    NULL|          curl|    Other|        Other| www.zachwilson.tech|2021-02-22 02:50:...|2021-02-22 00:00:00|\n",
      "|/.git/HEAD|    NULL|          curl|    Other|        Other|admin.zachwilson....|2021-02-22 23:51:...|2021-02-22 00:00:00|\n",
      "|         /|    NULL|          curl|    Other|        Other|    www.eczachly.com|2021-02-23 00:17:...|2021-02-23 00:00:00|\n",
      "|         /|    NULL|         Other|    Other|        Other|    www.eczachly.com|2022-12-28 01:38:...|2022-12-28 00:00:00|\n",
      "|         /|    NULL|         Other|    Other|        Other| www.zachwilson.tech|2022-12-28 05:23:...|2022-12-28 00:00:00|\n",
      "|         /|    NULL|         Other|    Other|        Other| www.zachwilson.tech|2022-12-28 16:45:...|2022-12-28 00:00:00|\n",
      "+----------+--------+--------------+---------+-------------+--------------------+--------------------+-------------------+\n",
      "only showing top 20 rows\n",
      "\n"
     ]
    }
   ],
   "source": [
    "# Read the devices CSV file\n",
    "devices = spark.read.option(\"header\", \"true\").csv(\"/home/iceberg/data/devices.csv\")\n",
    "\n",
    "# Join the events and devices DataFrames\n",
    "joined_df = events.join(devices, on=\"device_id\", how=\"left\")\n",
    "\n",
    "# Rename columns using select and cast 'event_time' correctly\n",
    "df = joined_df.select(\n",
    "    \"url\",\n",
    "    \"referrer\",\n",
    "    col(\"browser_type\").alias(\"browser_family\"),\n",
    "    col(\"os_type\").alias(\"os_family\"),\n",
    "    col(\"device_type\").alias(\"device_family\"),\n",
    "    \"host\",\n",
    "    \"event_time\",\n",
    "    \"event_date\"\n",
    ")\n",
    "\n",
    "# Show the result\n",
    "df.show()"
   ]
  },
  {
   "cell_type": "code",
   "execution_count": 13,
   "id": "dce068df-3e21-429a-8716-abdd13e9406c",
   "metadata": {},
   "outputs": [
    {
     "name": "stderr",
     "output_type": "stream",
     "text": [
      "[Stage 12:==============>                                           (1 + 3) / 4]\r"
     ]
    },
    {
     "name": "stdout",
     "output_type": "stream",
     "text": [
      "+--------------------+--------------------+--------------+---------+------------------+--------------------+--------------------+-------------------+\n",
      "|                 url|            referrer|browser_family|os_family|     device_family|                host|          event_time|         event_date|\n",
      "+--------------------+--------------------+--------------+---------+------------------+--------------------+--------------------+-------------------+\n",
      "|                   /|                NULL|         Other|    Other|             Other|admin.zachwilson....|2021-01-07 09:21:...|2021-01-07 00:00:00|\n",
      "|                   /|                NULL|         Other|    Other|             Other|    www.eczachly.com|2021-01-07 18:45:...|2021-01-07 00:00:00|\n",
      "|                   /|                NULL|         Other|    Other|             Other|    www.eczachly.com|2021-01-07 21:57:...|2021-01-07 00:00:00|\n",
      "|                   /|                NULL|      PetalBot|  Android|Generic Smartphone|    www.eczachly.com|2021-01-07 02:58:...|2021-01-07 00:00:00|\n",
      "|                   /|                NULL|      PetalBot|    Other|            Spider|    www.eczachly.com|2021-01-07 04:17:...|2021-01-07 00:00:00|\n",
      "|/blog/what-exactl...|                NULL|      PetalBot|  Android|Generic Smartphone|    www.eczachly.com|2021-01-07 10:03:...|2021-01-07 00:00:00|\n",
      "|                   /|                NULL|      PetalBot|    Other|            Spider|    www.eczachly.com|2021-01-07 23:07:...|2021-01-07 00:00:00|\n",
      "|            /contact|                NULL|     AhrefsBot|    Other|            Spider| www.zachwilson.tech|2021-01-07 04:57:...|2021-01-07 00:00:00|\n",
      "|                   /|                NULL|     AhrefsBot|    Other|            Spider| www.zachwilson.tech|2021-01-07 19:56:...|2021-01-07 00:00:00|\n",
      "|               /blog|                NULL|     AhrefsBot|    Other|            Spider| www.zachwilson.tech|2021-01-07 19:56:...|2021-01-07 00:00:00|\n",
      "|            /contact|https://www.zachw...|        Chrome|  Windows|             Other| www.zachwilson.tech|2021-01-07 00:19:...|2021-01-07 00:00:00|\n",
      "|     /api/v1/contact|https://www.zachw...|        Chrome|  Windows|             Other| www.zachwilson.tech|2021-01-07 00:19:...|2021-01-07 00:00:00|\n",
      "|            /contact|https://www.zachw...|        Chrome|  Windows|             Other| www.zachwilson.tech|2021-01-07 00:19:...|2021-01-07 00:00:00|\n",
      "|            /contact|https://www.zachw...|        Chrome|  Windows|             Other| www.zachwilson.tech|2021-01-07 01:57:...|2021-01-07 00:00:00|\n",
      "|     /api/v1/contact|https://www.zachw...|        Chrome|  Windows|             Other| www.zachwilson.tech|2021-01-07 01:57:...|2021-01-07 00:00:00|\n",
      "|            /contact|https://www.zachw...|        Chrome|  Windows|             Other| www.zachwilson.tech|2021-01-07 01:57:...|2021-01-07 00:00:00|\n",
      "|               /blog|                NULL|        Chrome|  Windows|             Other| www.zachwilson.tech|2021-01-07 09:57:...|2021-01-07 00:00:00|\n",
      "|                   /|https://www.zachw...|        Chrome|  Windows|             Other| www.zachwilson.tech|2021-01-07 10:12:...|2021-01-07 00:00:00|\n",
      "|            /contact|https://www.zachw...|        Chrome|  Windows|             Other| www.zachwilson.tech|2021-01-07 10:12:...|2021-01-07 00:00:00|\n",
      "|     /api/v1/contact|https://www.zachw...|        Chrome|  Windows|             Other| www.zachwilson.tech|2021-01-07 10:13:...|2021-01-07 00:00:00|\n",
      "+--------------------+--------------------+--------------+---------+------------------+--------------------+--------------------+-------------------+\n",
      "only showing top 20 rows\n",
      "\n"
     ]
    },
    {
     "name": "stderr",
     "output_type": "stream",
     "text": [
      "                                                                                \r"
     ]
    }
   ],
   "source": [
    "sorted = df.repartition(10, col(\"event_date\")) \\\n",
    "        .sortWithinPartitions(col(\"event_date\"), col(\"host\"), col(\"browser_family\")) \\\n",
    "        .withColumn(\"event_time\", col(\"event_time\").cast(\"timestamp\")) \\\n",
    "\n",
    "# sorted = df.repartition(10, col(\"event_date\")) \\\n",
    "#         .sortWithinPartitions(col(\"event_date\"), col(\"host\")) \\\n",
    "#         .withColumn(\"event_time\", col(\"event_time\").cast(\"timestamp\")) \\\n",
    "\n",
    "sorted.show()"
   ]
  },
  {
   "cell_type": "code",
   "execution_count": 5,
   "id": "d800dca7-2737-4192-b5c0-c1806c105e15",
   "metadata": {},
   "outputs": [
    {
     "data": {
      "text/html": [
       "<table>\n",
       "    <thead>\n",
       "        <tr>\n",
       "        </tr>\n",
       "    </thead>\n",
       "    <tbody>\n",
       "    </tbody>\n",
       "</table>"
      ],
      "text/plain": [
       "++\n",
       "||\n",
       "++\n",
       "++"
      ]
     },
     "execution_count": 5,
     "metadata": {},
     "output_type": "execute_result"
    }
   ],
   "source": [
    "%%sql\n",
    "\n",
    "CREATE DATABASE IF NOT EXISTS bootcamp"
   ]
  },
  {
   "cell_type": "code",
   "execution_count": 6,
   "id": "e83cd813-d5c0-4d67-8285-849b882b8bfa",
   "metadata": {},
   "outputs": [
    {
     "data": {
      "text/html": [
       "<table>\n",
       "    <thead>\n",
       "        <tr>\n",
       "        </tr>\n",
       "    </thead>\n",
       "    <tbody>\n",
       "    </tbody>\n",
       "</table>"
      ],
      "text/plain": [
       "++\n",
       "||\n",
       "++\n",
       "++"
      ]
     },
     "execution_count": 6,
     "metadata": {},
     "output_type": "execute_result"
    }
   ],
   "source": [
    "%%sql\n",
    "\n",
    "DROP TABLE IF EXISTS bootcamp.events"
   ]
  },
  {
   "cell_type": "code",
   "execution_count": 7,
   "id": "d1b197a9-1b63-4130-acbe-01418eede0e5",
   "metadata": {
    "scrolled": true
   },
   "outputs": [
    {
     "data": {
      "text/html": [
       "<table>\n",
       "    <thead>\n",
       "        <tr>\n",
       "        </tr>\n",
       "    </thead>\n",
       "    <tbody>\n",
       "    </tbody>\n",
       "</table>"
      ],
      "text/plain": [
       "++\n",
       "||\n",
       "++\n",
       "++"
      ]
     },
     "execution_count": 7,
     "metadata": {},
     "output_type": "execute_result"
    }
   ],
   "source": [
    "%%sql\n",
    "\n",
    "CREATE TABLE IF NOT EXISTS bootcamp.events (\n",
    "    url STRING,\n",
    "    referrer STRING,\n",
    "    browser_family STRING,\n",
    "    os_family STRING,\n",
    "    device_family STRING,\n",
    "    host STRING,\n",
    "    event_time TIMESTAMP,\n",
    "    event_date DATE\n",
    ")\n",
    "USING iceberg\n",
    "PARTITIONED BY (event_date);\n"
   ]
  },
  {
   "cell_type": "code",
   "execution_count": 42,
   "id": "c40b143f-295e-4875-bd7f-12409312b800",
   "metadata": {
    "scrolled": true
   },
   "outputs": [
    {
     "data": {
      "text/html": [
       "<table>\n",
       "    <thead>\n",
       "        <tr>\n",
       "        </tr>\n",
       "    </thead>\n",
       "    <tbody>\n",
       "    </tbody>\n",
       "</table>"
      ],
      "text/plain": [
       "++\n",
       "||\n",
       "++\n",
       "++"
      ]
     },
     "execution_count": 42,
     "metadata": {},
     "output_type": "execute_result"
    }
   ],
   "source": [
    "%%sql\n",
    "\n",
    "-- DROP TABLE IF EXISTS bootcamp.events_sorted;\n",
    "\n",
    "CREATE TABLE IF NOT EXISTS bootcamp.events_sorted_v3 (\n",
    "    url STRING,\n",
    "    referrer STRING,\n",
    "    browser_family STRING,\n",
    "    os_family STRING,\n",
    "    device_family STRING,\n",
    "    host STRING,\n",
    "    event_time TIMESTAMP,\n",
    "    event_date DATE\n",
    ")\n",
    "USING iceberg\n",
    "PARTITIONED BY (event_date);"
   ]
  },
  {
   "cell_type": "code",
   "execution_count": 43,
   "id": "00c86e79-a911-464c-ad58-acc92859dcc6",
   "metadata": {
    "scrolled": true
   },
   "outputs": [
    {
     "data": {
      "text/html": [
       "<table>\n",
       "    <thead>\n",
       "        <tr>\n",
       "        </tr>\n",
       "    </thead>\n",
       "    <tbody>\n",
       "    </tbody>\n",
       "</table>"
      ],
      "text/plain": [
       "++\n",
       "||\n",
       "++\n",
       "++"
      ]
     },
     "execution_count": 43,
     "metadata": {},
     "output_type": "execute_result"
    }
   ],
   "source": [
    "%%sql\n",
    "\n",
    "-- DROP TABLE IF EXISTS bootcamp.events_unsorted;\n",
    "\n",
    "CREATE TABLE IF NOT EXISTS bootcamp.events_unsorted_v3 (\n",
    "    url STRING,\n",
    "    referrer STRING,\n",
    "    browser_family STRING,\n",
    "    os_family STRING,\n",
    "    device_family STRING,\n",
    "    host STRING,\n",
    "    event_time TIMESTAMP,\n",
    "    event_date DATE\n",
    ")\n",
    "USING iceberg\n",
    "PARTITIONED BY (event_date);"
   ]
  },
  {
   "cell_type": "code",
   "execution_count": 39,
   "id": "6a31d028-ae1f-4666-ae12-cc28cef6eef1",
   "metadata": {},
   "outputs": [
    {
     "name": "stderr",
     "output_type": "stream",
     "text": [
      "[Stage 74:==============>                                           (1 + 3) / 4]\r"
     ]
    },
    {
     "name": "stdout",
     "output_type": "stream",
     "text": [
      "+-------------------+-----+\n",
      "|         event_date|count|\n",
      "+-------------------+-----+\n",
      "|2021-07-08 00:00:00|   89|\n",
      "|2021-07-20 00:00:00|  134|\n",
      "|2021-08-27 00:00:00|  191|\n",
      "|2022-01-03 00:00:00|  179|\n",
      "|2022-04-07 00:00:00|  119|\n",
      "|2022-01-02 00:00:00|  105|\n",
      "|2021-07-06 00:00:00|   89|\n",
      "|2022-05-01 00:00:00|  155|\n",
      "|2022-05-18 00:00:00|  199|\n",
      "|2022-02-25 00:00:00|   84|\n",
      "|2022-08-18 00:00:00|  216|\n",
      "|2021-05-07 00:00:00|  124|\n",
      "|2021-12-28 00:00:00|  197|\n",
      "|2021-11-16 00:00:00|  128|\n",
      "|2022-05-07 00:00:00|  416|\n",
      "|2022-04-30 00:00:00|  142|\n",
      "|2022-05-04 00:00:00|  127|\n",
      "|2022-10-19 00:00:00|   76|\n",
      "|2021-03-16 00:00:00|   82|\n",
      "|2021-09-07 00:00:00|  122|\n",
      "+-------------------+-----+\n",
      "only showing top 20 rows\n",
      "\n"
     ]
    },
    {
     "name": "stderr",
     "output_type": "stream",
     "text": [
      "                                                                                \r"
     ]
    }
   ],
   "source": [
    "\n",
    "df.groupBy('event_date').count().show()"
   ]
  },
  {
   "cell_type": "code",
   "execution_count": 56,
   "id": "2c1254bc-9ecf-4c86-bfd9-de81ecfbb78b",
   "metadata": {},
   "outputs": [
    {
     "name": "stderr",
     "output_type": "stream",
     "text": [
      "                                                                                \r"
     ]
    }
   ],
   "source": [
    "\n",
    "start_df = df.repartition(15, col(\"event_date\")).withColumn(\"event_time\", col(\"event_time\").cast(\"timestamp\")) \\\n",
    "    \n",
    "\n",
    "# first_sort_df = start_df.sortWithinPartitions(col(\"event_date\"), col(\"browser_family\"), col(\"host\"))\n",
    "first_sort_df = start_df.sortWithinPartitions(col(\"event_date\"))\n",
    "\n",
    "start_df.write.mode(\"overwrite\").saveAsTable(\"bootcamp.events_unsorted_v3\")\n",
    "first_sort_df.write.mode(\"overwrite\").saveAsTable(\"bootcamp.events_sorted_v3\")"
   ]
  },
  {
   "cell_type": "code",
   "execution_count": 57,
   "id": "d207a11b-b0a4-4662-bbe9-747d8f67be7d",
   "metadata": {},
   "outputs": [
    {
     "data": {
      "text/html": [
       "<table>\n",
       "    <thead>\n",
       "        <tr>\n",
       "            <th>events_sorted_v3</th>\n",
       "            <th>size</th>\n",
       "            <th>num_files</th>\n",
       "            <th>sorted</th>\n",
       "        </tr>\n",
       "    </thead>\n",
       "    <tbody>\n",
       "        <tr>\n",
       "            <td>events_sorted_v3</td>\n",
       "            <td>3717905</td>\n",
       "            <td>15</td>\n",
       "            <td>sorted</td>\n",
       "        </tr>\n",
       "        <tr>\n",
       "            <td>events_unsorted_v3</td>\n",
       "            <td>3731407</td>\n",
       "            <td>15</td>\n",
       "            <td>unsorted</td>\n",
       "        </tr>\n",
       "    </tbody>\n",
       "</table>"
      ],
      "text/plain": [
       "+--------------------+---------+-----------+----------+\n",
       "|   events_sorted_v3 |    size | num_files |   sorted |\n",
       "+--------------------+---------+-----------+----------+\n",
       "|   events_sorted_v3 | 3717905 |        15 |   sorted |\n",
       "| events_unsorted_v3 | 3731407 |        15 | unsorted |\n",
       "+--------------------+---------+-----------+----------+"
      ]
     },
     "execution_count": 57,
     "metadata": {},
     "output_type": "execute_result"
    }
   ],
   "source": [
    "%%sql\n",
    "\n",
    "SELECT 'events_sorted_v3', SUM(file_size_in_bytes) as size, COUNT(1) as num_files, 'sorted' \n",
    "FROM demo.bootcamp.events_sorted_v3.files\n",
    "\n",
    "UNION ALL\n",
    "SELECT 'events_unsorted_v3', SUM(file_size_in_bytes) as size, COUNT(1) as num_files, 'unsorted' \n",
    "FROM demo.bootcamp.events_unsorted_v3.files\n",
    "\n",
    "\n",
    "\n"
   ]
  },
  {
   "cell_type": "code",
   "execution_count": 58,
   "id": "a93db4d6-ac15-4d0e-83da-77b93ad618da",
   "metadata": {},
   "outputs": [
    {
     "data": {
      "text/html": [
       "<table>\n",
       "    <thead>\n",
       "        <tr>\n",
       "            <th>size</th>\n",
       "            <th>num_files</th>\n",
       "        </tr>\n",
       "    </thead>\n",
       "    <tbody>\n",
       "        <tr>\n",
       "            <td>3717905</td>\n",
       "            <td>15</td>\n",
       "        </tr>\n",
       "    </tbody>\n",
       "</table>"
      ],
      "text/plain": [
       "+---------+-----------+\n",
       "|    size | num_files |\n",
       "+---------+-----------+\n",
       "| 3717905 |        15 |\n",
       "+---------+-----------+"
      ]
     },
     "execution_count": 58,
     "metadata": {},
     "output_type": "execute_result"
    }
   ],
   "source": [
    "%%sql\n",
    "SELECT SUM(file_size_in_bytes) as size, COUNT(1) as num_files FROM demo.bootcamp.events_sorted_v3.files;"
   ]
  },
  {
   "cell_type": "code",
   "execution_count": 3,
   "id": "acd96b22",
   "metadata": {
    "collapsed": false,
    "jupyter": {
     "outputs_hidden": false
    },
    "pycharm": {
     "name": "#%%\n"
    }
   },
   "outputs": [
    {
     "data": {
      "text/html": [
       "<table>\n",
       "    <thead>\n",
       "        <tr>\n",
       "            <th>count(1)</th>\n",
       "        </tr>\n",
       "    </thead>\n",
       "    <tbody>\n",
       "        <tr>\n",
       "            <td>0</td>\n",
       "        </tr>\n",
       "    </tbody>\n",
       "</table>"
      ],
      "text/plain": [
       "+----------+\n",
       "| count(1) |\n",
       "+----------+\n",
       "|        0 |\n",
       "+----------+"
      ]
     },
     "execution_count": 3,
     "metadata": {},
     "output_type": "execute_result"
    }
   ],
   "source": [
    "%%sql \n",
    "SELECT COUNT(1) FROM bootcamp.match_details_bucketed.files\n",
    "-- we have switched here from bucket-joins notebook to select all what we did\n"
   ]
  },
  {
   "cell_type": "code",
   "execution_count": 4,
   "id": "674f173d-86ca-4637-9332-37ce04a81451",
   "metadata": {},
   "outputs": [
    {
     "data": {
      "text/html": [
       "<table>\n",
       "    <thead>\n",
       "        <tr>\n",
       "            <th>count(1)</th>\n",
       "        </tr>\n",
       "    </thead>\n",
       "    <tbody>\n",
       "        <tr>\n",
       "            <td>0</td>\n",
       "        </tr>\n",
       "    </tbody>\n",
       "</table>"
      ],
      "text/plain": [
       "+----------+\n",
       "| count(1) |\n",
       "+----------+\n",
       "|        0 |\n",
       "+----------+"
      ]
     },
     "execution_count": 4,
     "metadata": {},
     "output_type": "execute_result"
    }
   ],
   "source": [
    "%%sql \n",
    "SELECT COUNT(1) FROM bootcamp.matches_bucketed.files\n",
    "--# we have switched here from bucket-joins notebook to select all what we did\n"
   ]
  },
  {
   "cell_type": "code",
   "execution_count": null,
   "id": "591ba0b7-2e6f-420a-960d-95e5734b0166",
   "metadata": {},
   "outputs": [],
   "source": []
  }
 ],
 "metadata": {
  "kernelspec": {
   "display_name": "Python 3 (ipykernel)",
   "language": "python",
   "name": "python3"
  },
  "language_info": {
   "codemirror_mode": {
    "name": "ipython",
    "version": 3
   },
   "file_extension": ".py",
   "mimetype": "text/x-python",
   "name": "python",
   "nbconvert_exporter": "python",
   "pygments_lexer": "ipython3",
   "version": "3.9.18"
  }
 },
 "nbformat": 4,
 "nbformat_minor": 5
}
